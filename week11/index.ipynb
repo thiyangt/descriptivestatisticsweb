{
  "cells": [
    {
      "cell_type": "raw",
      "metadata": {},
      "source": [
        "---\n",
        "title: \"STA 113 2.0 Descriptive Statistics\"\n",
        "subtitle: \"Summary Measures\"\n",
        "author: \"Dr. Thiyanga S. Talagala <br/>  Department of Statistics, Faculty of Applied Sciences <br/> University of Sri Jayewardenepura, Sri Lanka\"\n",
        "format:\n",
        "  revealjs:\n",
        "    width: 2000\n",
        "    height: 2000\n",
        "    margin: 0.1\n",
        "    theme: [simple, custom.scss]\n",
        "    transition: slide\n",
        "    background-transition: fade\n",
        "    slide-number: true\n",
        "    show-slide-number: all\n",
        "    title-slide-attributes: \n",
        "      data-background-color: \"#081d58\"\n",
        "      data-background-image: none\n",
        "---"
      ],
      "id": "2a443f74"
    },
    {
      "cell_type": "markdown",
      "metadata": {},
      "source": [
        "```{css, echo=FALSE}\n",
        ".reveal code {\n",
        "  max-height: 100% !important;\n",
        "}\n",
        "```\n",
        "\n",
        "\n",
        "\n",
        "## Variance of a sample\n",
        "\n",
        "The variance of a sample of `n` observations $x_1, x_2, _x_3...x_n$ having mean $\\bar{x}$ is defined as \n",
        "\n",
        "$$s^2 = \\frac{\\sum_{i=1}^n(x_i - \\bar{x})^2}{n-1}$$\n",
        "\n",
        "Alternatively, the sample variance can be written in the following forms:\n",
        "\n",
        "$$s^2 = \\frac{1}{n-1}[\\sum_{i=1}^n x_i^2 - \\frac{(\\sum_{i=1}^nx_i)^2}{n}]$$\n",
        "\n",
        "or \n",
        "\n",
        "$$s^2 = \\frac{1}{n-1}[\\sum_{i=1}^nx_i^2-n\\bar{x}]$$\n",
        "## Measures of relative standing/ Measures of noncentral location\n",
        "\n",
        "- Quartiles\n",
        "\n",
        "- Percentiles"
      ],
      "id": "8842b9d2"
    }
  ],
  "metadata": {
    "kernelspec": {
      "display_name": "Python 3",
      "language": "python",
      "name": "python3"
    }
  },
  "nbformat": 4,
  "nbformat_minor": 5
}